{
 "cells": [
  {
   "cell_type": "code",
   "execution_count": 1,
   "metadata": {},
   "outputs": [],
   "source": [
    "import streamlit as st\n",
    "import requests"
   ]
  },
  {
   "cell_type": "code",
   "execution_count": 35,
   "metadata": {},
   "outputs": [
    {
     "data": {
      "text/plain": [
       "Location(Jakarta, Jakarta, Indonesia, (-6.21462, 106.84513, 0.0))"
      ]
     },
     "execution_count": 35,
     "metadata": {},
     "output_type": "execute_result"
    }
   ],
   "source": [
    "from geopy import geocoders\n",
    "\n",
    "gn  = geocoders.GeoNames(\"hamb\" )\n",
    "\n",
    "gn.geocode(\"jakarta\")"
   ]
  },
  {
   "cell_type": "code",
   "execution_count": null,
   "metadata": {},
   "outputs": [],
   "source": [
    "api_fmt = \"https://api.open-meteo.com/v1/forecast?latitude=%d&longitude=%d&hourly=temperature_2m,relative_humidity_2m,precipitation_probability,cloud_cover,visibility,wind_speed_10m,uv_index,is_day&timezone=GMT&forecast_days=1\"\n",
    "api = api_fmt % (-5, -7)\n",
    "response = requests.get(api)\n",
    "\n",
    "response.json()"
   ]
  },
  {
   "cell_type": "code",
   "execution_count": 26,
   "metadata": {},
   "outputs": [
    {
     "data": {
      "text/plain": [
       "(60.25, 20.0)"
      ]
     },
     "execution_count": 26,
     "metadata": {},
     "output_type": "execute_result"
    }
   ],
   "source": [
    "country_dict['Åland Islands']"
   ]
  },
  {
   "cell_type": "code",
   "execution_count": 16,
   "metadata": {},
   "outputs": [
    {
     "name": "stdout",
     "output_type": "stream",
     "text": [
      "Coordinates not found for Micronesia, Federated States of\n",
      "Coordinates not found for Heard Island and McDonald Islands\n"
     ]
    }
   ],
   "source": [
    "import pycountry\n",
    "from geopy import geocoders\n",
    "from geopy.exc import GeocoderTimedOut\n",
    "\n",
    "# Initialize geolocator\n",
    "gn = geocoders.GeoNames(\"hamb\")\n",
    "\n",
    "# Function to get coordinates for a given country name\n",
    "def get_country_coordinates(country_name):\n",
    "    try:\n",
    "        location = gn.geocode(country_name)\n",
    "        if location:\n",
    "            return location.latitude, location.longitude\n",
    "        else:\n",
    "            return None, None\n",
    "    except GeocoderTimedOut:\n",
    "        return None, None\n",
    "\n",
    "# List to store countries and their coordinates\n",
    "countries_coordinates = []\n",
    "\n",
    "# Loop through all countries in pycountry\n",
    "for country in pycountry.countries:\n",
    "    latitude, longitude = get_country_coordinates(country.name)\n",
    "    if latitude is not None and longitude is not None:\n",
    "        countries_coordinates.append({\n",
    "            \"country\": country.name,\n",
    "            \"latitude\": latitude,\n",
    "            \"longitude\": longitude\n",
    "        })\n",
    "    else:\n",
    "        print(f\"Coordinates not found for {country.name}\")"
   ]
  },
  {
   "cell_type": "code",
   "execution_count": 17,
   "metadata": {},
   "outputs": [],
   "source": [
    "country_dict = {x['country']: (x['latitude'], x['longitude']) for x in countries_coordinates}"
   ]
  },
  {
   "cell_type": "code",
   "execution_count": 44,
   "metadata": {},
   "outputs": [],
   "source": [
    "def get_coord(country : str):\n",
    "    return country_dict.get(country, None)"
   ]
  },
  {
   "cell_type": "code",
   "execution_count": null,
   "metadata": {},
   "outputs": [],
   "source": [
    "def fetch_weather_data(country : str) :\n",
    "    longitude, latitude = get_coord()"
   ]
  },
  {
   "cell_type": "code",
   "execution_count": 51,
   "metadata": {},
   "outputs": [
    {
     "data": {
      "text/plain": [
       "'[{\"country\": \"Aruba\", \"latitude\": 12.5, \"longitude\": -69.96667}, {\"country\": \"Afghanistan\", \"latitude\": 33.0, \"longitude\": 66.0}, {\"country\": \"Angola\", \"latitude\": -12.5, \"longitude\": 18.5}, {\"country\": \"Anguilla\", \"latitude\": 18.21667, \"longitude\": -63.05}, {\"country\": \"\\\\u00c5land Islands\", \"latitude\": 60.25, \"longitude\": 20.0}, {\"country\": \"Albania\", \"latitude\": 41.0, \"longitude\": 20.0}, {\"country\": \"Andorra\", \"latitude\": 42.55, \"longitude\": 1.58333}, {\"country\": \"United Arab Emirates\", \"latitude\": 23.75, \"longitude\": 54.5}, {\"country\": \"Argentina\", \"latitude\": -34.0, \"longitude\": -64.0}, {\"country\": \"Armenia\", \"latitude\": 40.25, \"longitude\": 45.0}, {\"country\": \"American Samoa\", \"latitude\": -14.23377, \"longitude\": -169.47767}, {\"country\": \"Antarctica\", \"latitude\": -78.15856, \"longitude\": 16.40626}, {\"country\": \"French Southern Territories\", \"latitude\": -43.0, \"longitude\": 67.0}, {\"country\": \"Antigua and Barbuda\", \"latitude\": 17.05, \"longitude\": -61.8}, {\"country\": \"Australia\", \"latitude\": -25.0, \"longitude\": 135.0}, {\"country\": \"Austria\", \"latitude\": 47.33333, \"longitude\": 13.33333}, {\"country\": \"Azerbaijan\", \"latitude\": 40.5, \"longitude\": 47.5}, {\"country\": \"Burundi\", \"latitude\": -3.5, \"longitude\": 30.0}, {\"country\": \"Belgium\", \"latitude\": 50.75, \"longitude\": 4.5}, {\"country\": \"Benin\", \"latitude\": 9.5, \"longitude\": 2.25}, {\"country\": \"Bonaire, Sint Eustatius and Saba\", \"latitude\": 12.21286, \"longitude\": -68.29445}, {\"country\": \"Burkina Faso\", \"latitude\": 12.5, \"longitude\": -1.66667}, {\"country\": \"Bangladesh\", \"latitude\": 24.0, \"longitude\": 90.0}, {\"country\": \"Bulgaria\", \"latitude\": 42.66667, \"longitude\": 25.25}, {\"country\": \"Bahrain\", \"latitude\": 26.03333, \"longitude\": 50.55}, {\"country\": \"Bahamas\", \"latitude\": 25.04082, \"longitude\": -77.37122}, {\"country\": \"Bosnia and Herzegovina\", \"latitude\": 44.25, \"longitude\": 17.83333}, {\"country\": \"Saint Barth\\\\u00e9lemy\", \"latitude\": 17.9, \"longitude\": -62.8257}, {\"country\": \"Belarus\", \"latitude\": 53.0, \"longitude\": 28.0}, {\"country\": \"Belize\", \"latitude\": 17.25, \"longitude\": -88.75}, {\"country\": \"Bermuda\", \"latitude\": 32.33022, \"longitude\": -64.74003}, {\"country\": \"Bolivia, Plurinational State of\", \"latitude\": -17.0, \"longitude\": -65.0}, {\"country\": \"Brazil\", \"latitude\": -10.0, \"longitude\": -55.0}, {\"country\": \"Barbados\", \"latitude\": 13.16453, \"longitude\": -59.55165}, {\"country\": \"Brunei Darussalam\", \"latitude\": 4.5, \"longitude\": 114.66667}, {\"country\": \"Bhutan\", \"latitude\": 27.5, \"longitude\": 90.5}, {\"country\": \"Bouvet Island\", \"latitude\": -54.43333, \"longitude\": 3.4}, {\"country\": \"Botswana\", \"latitude\": -22.0, \"longitude\": 24.0}, {\"country\": \"Central African Republic\", \"latitude\": 7.0, \"longitude\": 21.0}, {\"country\": \"Canada\", \"latitude\": 60.10867, \"longitude\": -113.64258}, {\"country\": \"Cocos (Keeling) Islands\", \"latitude\": -12.15681, \"longitude\": 96.82251}, {\"country\": \"Switzerland\", \"latitude\": 47.00016, \"longitude\": 8.01427}, {\"country\": \"Chile\", \"latitude\": -30.0, \"longitude\": -71.0}, {\"country\": \"China\", \"latitude\": 35.0, \"longitude\": 105.0}, {\"country\": \"C\\\\u00f4te d\\'Ivoire\", \"latitude\": 8.0, \"longitude\": -5.5}, {\"country\": \"Cameroon\", \"latitude\": 6.0, \"longitude\": 12.5}, {\"country\": \"Congo, The Democratic Republic of the\", \"latitude\": -2.5, \"longitude\": 23.5}, {\"country\": \"Congo\", \"latitude\": -1.0, \"longitude\": 15.5}, {\"country\": \"Cook Islands\", \"latitude\": -21.24842, \"longitude\": -159.78516}, {\"country\": \"Colombia\", \"latitude\": 4.0, \"longitude\": -73.25}, {\"country\": \"Comoros\", \"latitude\": -12.23333, \"longitude\": 44.44553}, {\"country\": \"Cabo Verde\", \"latitude\": 16.0, \"longitude\": -24.0}, {\"country\": \"Costa Rica\", \"latitude\": 10.0, \"longitude\": -84.0}, {\"country\": \"Cuba\", \"latitude\": 22.0, \"longitude\": -79.5}, {\"country\": \"Cura\\\\u00e7ao\", \"latitude\": 12.16667, \"longitude\": -68.96667}, {\"country\": \"Christmas Island\", \"latitude\": -10.5, \"longitude\": 105.66667}, {\"country\": \"Cayman Islands\", \"latitude\": 19.5, \"longitude\": -80.66667}, {\"country\": \"Cyprus\", \"latitude\": 35.0, \"longitude\": 33.0}, {\"country\": \"Czechia\", \"latitude\": 49.75, \"longitude\": 15.0}, {\"country\": \"Germany\", \"latitude\": 51.5, \"longitude\": 10.5}, {\"country\": \"Djibouti\", \"latitude\": 11.83333, \"longitude\": 42.5}, {\"country\": \"Dominica\", \"latitude\": 15.5, \"longitude\": -61.33333}, {\"country\": \"Denmark\", \"latitude\": 56.0, \"longitude\": 10.0}, {\"country\": \"Dominican Republic\", \"latitude\": 19.0, \"longitude\": -70.66667}, {\"country\": \"Algeria\", \"latitude\": 28.0, \"longitude\": 3.0}, {\"country\": \"Ecuador\", \"latitude\": -1.25, \"longitude\": -78.25}, {\"country\": \"Egypt\", \"latitude\": 27.0, \"longitude\": 30.0}, {\"country\": \"Eritrea\", \"latitude\": 15.0, \"longitude\": 39.0}, {\"country\": \"Western Sahara\", \"latitude\": 24.49215, \"longitude\": -12.65625}, {\"country\": \"Spain\", \"latitude\": 40.0, \"longitude\": -4.0}, {\"country\": \"Estonia\", \"latitude\": 59.0, \"longitude\": 26.0}, {\"country\": \"Ethiopia\", \"latitude\": 9.0, \"longitude\": 39.5}, {\"country\": \"Finland\", \"latitude\": 64.0, \"longitude\": 26.0}, {\"country\": \"Fiji\", \"latitude\": -18.0, \"longitude\": 178.0}, {\"country\": \"Falkland Islands (Malvinas)\", \"latitude\": -51.75, \"longitude\": -59.16667}, {\"country\": \"France\", \"latitude\": 46.0, \"longitude\": 2.0}, {\"country\": \"Faroe Islands\", \"latitude\": 62.0, \"longitude\": -7.0}, {\"country\": \"Gabon\", \"latitude\": -1.0, \"longitude\": 11.75}, {\"country\": \"United Kingdom\", \"latitude\": 54.75844, \"longitude\": -2.69531}, {\"country\": \"Georgia\", \"latitude\": 41.99998, \"longitude\": 43.4999}, {\"country\": \"Guernsey\", \"latitude\": 49.45474, \"longitude\": -2.57629}, {\"country\": \"Ghana\", \"latitude\": 8.1, \"longitude\": -1.2}, {\"country\": \"Gibraltar\", \"latitude\": 36.14474, \"longitude\": -5.35257}, {\"country\": \"Guinea\", \"latitude\": 10.83333, \"longitude\": -10.66667}, {\"country\": \"Guadeloupe\", \"latitude\": 16.25, \"longitude\": -61.58333}, {\"country\": \"Gambia\", \"latitude\": 13.5, \"longitude\": -15.5}, {\"country\": \"Guinea-Bissau\", \"latitude\": 12.0, \"longitude\": -15.0}, {\"country\": \"Equatorial Guinea\", \"latitude\": 1.7, \"longitude\": 10.5}, {\"country\": \"Greece\", \"latitude\": 39.0, \"longitude\": 22.0}, {\"country\": \"Grenada\", \"latitude\": 12.11667, \"longitude\": -61.66667}, {\"country\": \"Greenland\", \"latitude\": 72.0, \"longitude\": -40.0}, {\"country\": \"Guatemala\", \"latitude\": 15.5, \"longitude\": -90.25}, {\"country\": \"French Guiana\", \"latitude\": 4.0, \"longitude\": -53.0}, {\"country\": \"Guam\", \"latitude\": 13.47861, \"longitude\": 144.81834}, {\"country\": \"Guyana\", \"latitude\": 5.0, \"longitude\": -59.0}, {\"country\": \"Hong Kong\", \"latitude\": 22.27832, \"longitude\": 114.17469}, {\"country\": \"Honduras\", \"latitude\": 15.0, \"longitude\": -86.5}, {\"country\": \"Croatia\", \"latitude\": 45.16667, \"longitude\": 15.5}, {\"country\": \"Haiti\", \"latitude\": 19.07582, \"longitude\": -72.29616}, {\"country\": \"Hungary\", \"latitude\": 47.0, \"longitude\": 20.0}, {\"country\": \"Indonesia\", \"latitude\": -5.0, \"longitude\": 120.0}, {\"country\": \"Isle of Man\", \"latitude\": 54.25, \"longitude\": -4.5}, {\"country\": \"India\", \"latitude\": 22.0, \"longitude\": 79.0}, {\"country\": \"British Indian Ocean Territory\", \"latitude\": -6.0, \"longitude\": 72.0}, {\"country\": \"Ireland\", \"latitude\": 53.0, \"longitude\": -8.0}, {\"country\": \"Iran, Islamic Republic of\", \"latitude\": 32.0, \"longitude\": 53.0}, {\"country\": \"Iraq\", \"latitude\": 33.0, \"longitude\": 44.0}, {\"country\": \"Iceland\", \"latitude\": 65.0, \"longitude\": -18.0}, {\"country\": \"Israel\", \"latitude\": 31.5, \"longitude\": 34.75}, {\"country\": \"Italy\", \"latitude\": 42.83333, \"longitude\": 12.83333}, {\"country\": \"Jamaica\", \"latitude\": 18.16667, \"longitude\": -77.25}, {\"country\": \"Jersey\", \"latitude\": 49.21667, \"longitude\": -2.11667}, {\"country\": \"Jordan\", \"latitude\": 31.0, \"longitude\": 36.0}, {\"country\": \"Japan\", \"latitude\": 35.68536, \"longitude\": 139.75309}, {\"country\": \"Kazakhstan\", \"latitude\": 48.0, \"longitude\": 68.0}, {\"country\": \"Kenya\", \"latitude\": 1.0, \"longitude\": 38.0}, {\"country\": \"Kyrgyzstan\", \"latitude\": 41.5, \"longitude\": 75.0}, {\"country\": \"Cambodia\", \"latitude\": 13.0, \"longitude\": 105.0}, {\"country\": \"Kiribati\", \"latitude\": 1.421, \"longitude\": 172.984}, {\"country\": \"Saint Kitts and Nevis\", \"latitude\": 17.33333, \"longitude\": -62.75}, {\"country\": \"Korea, Republic of\", \"latitude\": 36.5, \"longitude\": 127.75}, {\"country\": \"Kuwait\", \"latitude\": 29.5, \"longitude\": 47.75}, {\"country\": \"Lao People\\'s Democratic Republic\", \"latitude\": 18.0, \"longitude\": 105.0}, {\"country\": \"Lebanon\", \"latitude\": 33.83333, \"longitude\": 35.83333}, {\"country\": \"Liberia\", \"latitude\": 6.5, \"longitude\": -9.5}, {\"country\": \"Libya\", \"latitude\": 28.0, \"longitude\": 17.0}, {\"country\": \"Saint Lucia\", \"latitude\": 13.88333, \"longitude\": -60.96667}, {\"country\": \"Liechtenstein\", \"latitude\": 47.16667, \"longitude\": 9.53333}, {\"country\": \"Sri Lanka\", \"latitude\": 7.75, \"longitude\": 80.75}, {\"country\": \"Lesotho\", \"latitude\": -29.5, \"longitude\": 28.25}, {\"country\": \"Lithuania\", \"latitude\": 55.41667, \"longitude\": 24.0}, {\"country\": \"Luxembourg\", \"latitude\": 49.75, \"longitude\": 6.16667}, {\"country\": \"Latvia\", \"latitude\": 57.0, \"longitude\": 25.0}, {\"country\": \"Macao\", \"latitude\": 22.20056, \"longitude\": 113.54611}, {\"country\": \"Saint Martin (French part)\", \"latitude\": 18.06667, \"longitude\": -63.06667}, {\"country\": \"Morocco\", \"latitude\": 28.5, \"longitude\": -10.0}, {\"country\": \"Monaco\", \"latitude\": 43.73141, \"longitude\": 7.41903}, {\"country\": \"Moldova, Republic of\", \"latitude\": 47.25, \"longitude\": 28.58333}, {\"country\": \"Madagascar\", \"latitude\": -20.0, \"longitude\": 47.0}, {\"country\": \"Maldives\", \"latitude\": 3.2, \"longitude\": 73.0}, {\"country\": \"Mexico\", \"latitude\": 23.0, \"longitude\": -102.0}, {\"country\": \"Marshall Islands\", \"latitude\": 7.113, \"longitude\": 171.236}, {\"country\": \"North Macedonia\", \"latitude\": 41.66667, \"longitude\": 21.75}, {\"country\": \"Mali\", \"latitude\": 18.0, \"longitude\": -2.0}, {\"country\": \"Malta\", \"latitude\": 35.91667, \"longitude\": 14.43333}, {\"country\": \"Myanmar\", \"latitude\": 21.0, \"longitude\": 96.0}, {\"country\": \"Montenegro\", \"latitude\": 42.75, \"longitude\": 19.25}, {\"country\": \"Mongolia\", \"latitude\": 46.0, \"longitude\": 105.0}, {\"country\": \"Northern Mariana Islands\", \"latitude\": 15.214, \"longitude\": 145.756}, {\"country\": \"Mozambique\", \"latitude\": -18.25, \"longitude\": 35.0}, {\"country\": \"Mauritania\", \"latitude\": 20.25, \"longitude\": -10.5}, {\"country\": \"Montserrat\", \"latitude\": 16.75, \"longitude\": -62.2}, {\"country\": \"Martinique\", \"latitude\": 14.66667, \"longitude\": -61.0}, {\"country\": \"Mauritius\", \"latitude\": -20.3, \"longitude\": 57.58333}, {\"country\": \"Malawi\", \"latitude\": -13.5, \"longitude\": 34.0}, {\"country\": \"Malaysia\", \"latitude\": 2.5, \"longitude\": 112.5}, {\"country\": \"Mayotte\", \"latitude\": -12.83333, \"longitude\": 45.16667}, {\"country\": \"Namibia\", \"latitude\": -22.0, \"longitude\": 17.0}, {\"country\": \"New Caledonia\", \"latitude\": -21.5, \"longitude\": 165.5}, {\"country\": \"Niger\", \"latitude\": 18.0, \"longitude\": 9.0}, {\"country\": \"Norfolk Island\", \"latitude\": -29.03333, \"longitude\": 167.95}, {\"country\": \"Nigeria\", \"latitude\": 10.0, \"longitude\": 8.0}, {\"country\": \"Nicaragua\", \"latitude\": 13.0, \"longitude\": -85.0}, {\"country\": \"Niue\", \"latitude\": -19.03333, \"longitude\": -169.86667}, {\"country\": \"Netherlands\", \"latitude\": 52.25, \"longitude\": 5.75}, {\"country\": \"Norway\", \"latitude\": 62.0, \"longitude\": 10.0}, {\"country\": \"Nepal\", \"latitude\": 28.0, \"longitude\": 84.0}, {\"country\": \"Nauru\", \"latitude\": -0.517, \"longitude\": 166.933}, {\"country\": \"New Zealand\", \"latitude\": -42.0, \"longitude\": 174.0}, {\"country\": \"Oman\", \"latitude\": 21.0, \"longitude\": 57.0}, {\"country\": \"Pakistan\", \"latitude\": 30.0, \"longitude\": 70.0}, {\"country\": \"Panama\", \"latitude\": 9.0, \"longitude\": -80.0}, {\"country\": \"Pitcairn\", \"latitude\": -25.06667, \"longitude\": -130.1}, {\"country\": \"Peru\", \"latitude\": -10.0, \"longitude\": -75.25}, {\"country\": \"Philippines\", \"latitude\": 13.40882, \"longitude\": 122.56155}, {\"country\": \"Palau\", \"latitude\": 7.503, \"longitude\": 134.621}, {\"country\": \"Papua New Guinea\", \"latitude\": -6.0, \"longitude\": 147.0}, {\"country\": \"Poland\", \"latitude\": 52.0, \"longitude\": 20.0}, {\"country\": \"Puerto Rico\", \"latitude\": 18.2494, \"longitude\": -66.50101}, {\"country\": \"Korea, Democratic People\\'s Republic of\", \"latitude\": 40.0, \"longitude\": 127.0}, {\"country\": \"Portugal\", \"latitude\": 39.6945, \"longitude\": -8.13057}, {\"country\": \"Paraguay\", \"latitude\": -23.33333, \"longitude\": -58.0}, {\"country\": \"Palestine, State of\", \"latitude\": 31.92157, \"longitude\": 35.20329}, {\"country\": \"French Polynesia\", \"latitude\": -15.0, \"longitude\": -140.0}, {\"country\": \"Qatar\", \"latitude\": 25.5, \"longitude\": 51.25}, {\"country\": \"R\\\\u00e9union\", \"latitude\": -21.1, \"longitude\": 55.6}, {\"country\": \"Romania\", \"latitude\": 46.0, \"longitude\": 25.0}, {\"country\": \"Russian Federation\", \"latitude\": 60.0, \"longitude\": 100.0}, {\"country\": \"Rwanda\", \"latitude\": -2.0, \"longitude\": 30.0}, {\"country\": \"Saudi Arabia\", \"latitude\": 25.0, \"longitude\": 45.0}, {\"country\": \"Sudan\", \"latitude\": 16.0, \"longitude\": 30.0}, {\"country\": \"Senegal\", \"latitude\": 14.5, \"longitude\": -14.25}, {\"country\": \"Singapore\", \"latitude\": 1.28967, \"longitude\": 103.85007}, {\"country\": \"South Georgia and the South Sandwich Islands\", \"latitude\": -56.0, \"longitude\": -33.0}, {\"country\": \"Saint Helena, Ascension and Tristan da Cunha\", \"latitude\": -15.95, \"longitude\": -5.7}, {\"country\": \"Svalbard and Jan Mayen\", \"latitude\": 78.0, \"longitude\": 20.0}, {\"country\": \"Solomon Islands\", \"latitude\": -8.0, \"longitude\": 159.0}, {\"country\": \"Sierra Leone\", \"latitude\": 8.5, \"longitude\": -11.5}, {\"country\": \"El Salvador\", \"latitude\": -12.97563, \"longitude\": -38.49096}, {\"country\": \"San Marino\", \"latitude\": 43.9367, \"longitude\": 12.4463}, {\"country\": \"Somalia\", \"latitude\": 6.0, \"longitude\": 48.0}, {\"country\": \"Saint Pierre and Miquelon\", \"latitude\": 46.83333, \"longitude\": -56.33333}, {\"country\": \"Serbia\", \"latitude\": 44.81892, \"longitude\": 20.45998}, {\"country\": \"South Sudan\", \"latitude\": 7.5, \"longitude\": 30.0}, {\"country\": \"Sao Tome and Principe\", \"latitude\": 1.0, \"longitude\": 7.0}, {\"country\": \"Suriname\", \"latitude\": 4.0, \"longitude\": -56.0}, {\"country\": \"Slovakia\", \"latitude\": 48.66667, \"longitude\": 19.5}, {\"country\": \"Slovenia\", \"latitude\": 46.08333, \"longitude\": 15.0}, {\"country\": \"Sweden\", \"latitude\": 62.0, \"longitude\": 15.0}, {\"country\": \"Eswatini\", \"latitude\": -26.5, \"longitude\": 31.5}, {\"country\": \"Sint Maarten (Dutch part)\", \"latitude\": 18.04167, \"longitude\": -63.06667}, {\"country\": \"Seychelles\", \"latitude\": -4.58333, \"longitude\": 55.66667}, {\"country\": \"Syrian Arab Republic\", \"latitude\": 35.0, \"longitude\": 38.0}, {\"country\": \"Turks and Caicos Islands\", \"latitude\": 21.73333, \"longitude\": -71.58333}, {\"country\": \"Chad\", \"latitude\": 15.0, \"longitude\": 19.0}, {\"country\": \"Togo\", \"latitude\": 8.66667, \"longitude\": 1.08333}, {\"country\": \"Thailand\", \"latitude\": 15.5, \"longitude\": 101.0}, {\"country\": \"Tajikistan\", \"latitude\": 39.0, \"longitude\": 71.0}, {\"country\": \"Tokelau\", \"latitude\": -9.167, \"longitude\": -171.83}, {\"country\": \"Turkmenistan\", \"latitude\": 39.75, \"longitude\": 59.66667}, {\"country\": \"Timor-Leste\", \"latitude\": -8.83333, \"longitude\": 125.75}, {\"country\": \"Tonga\", \"latitude\": -20.0, \"longitude\": -175.0}, {\"country\": \"Trinidad and Tobago\", \"latitude\": 11.0, \"longitude\": -61.0}, {\"country\": \"Tunisia\", \"latitude\": 36.81897, \"longitude\": 10.16579}, {\"country\": \"T\\\\u00fcrkiye\", \"latitude\": 39.0, \"longitude\": 35.0}, {\"country\": \"Tuvalu\", \"latitude\": -8.51719, \"longitude\": 179.14478}, {\"country\": \"Taiwan, Province of China\", \"latitude\": 24.0, \"longitude\": 121.0}, {\"country\": \"Tanzania, United Republic of\", \"latitude\": -6.0, \"longitude\": 35.0}, {\"country\": \"Uganda\", \"latitude\": 1.25, \"longitude\": 32.5}, {\"country\": \"Ukraine\", \"latitude\": 49.0, \"longitude\": 32.0}, {\"country\": \"United States Minor Outlying Islands\", \"latitude\": 5.875, \"longitude\": -162.057}, {\"country\": \"Uruguay\", \"latitude\": -33.0, \"longitude\": -56.0}, {\"country\": \"United States\", \"latitude\": -14.60485, \"longitude\": -57.65625}, {\"country\": \"Uzbekistan\", \"latitude\": 41.66667, \"longitude\": 63.83333}, {\"country\": \"Holy See (Vatican City State)\", \"latitude\": 41.90225, \"longitude\": 12.4533}, {\"country\": \"Saint Vincent and the Grenadines\", \"latitude\": 13.08333, \"longitude\": -61.2}, {\"country\": \"Venezuela, Bolivarian Republic of\", \"latitude\": 8.0, \"longitude\": -66.0}, {\"country\": \"Virgin Islands, British\", \"latitude\": 18.5, \"longitude\": -64.5}, {\"country\": \"Virgin Islands, U.S.\", \"latitude\": 17.72751, \"longitude\": -64.74698}, {\"country\": \"Viet Nam\", \"latitude\": 16.16667, \"longitude\": 107.83333}, {\"country\": \"Vanuatu\", \"latitude\": -16.3333, \"longitude\": 167.5}, {\"country\": \"Wallis and Futuna\", \"latitude\": -13.3, \"longitude\": -176.2}, {\"country\": \"Samoa\", \"latitude\": -13.8, \"longitude\": -172.13333}, {\"country\": \"Yemen\", \"latitude\": 15.5, \"longitude\": 47.5}, {\"country\": \"South Africa\", \"latitude\": -29.0, \"longitude\": 24.0}, {\"country\": \"Zambia\", \"latitude\": -14.33333, \"longitude\": 28.5}, {\"country\": \"Zimbabwe\", \"latitude\": -19.0, \"longitude\": 29.75}]'"
      ]
     },
     "execution_count": 51,
     "metadata": {},
     "output_type": "execute_result"
    }
   ],
   "source": [
    "import json\n",
    "\n",
    "json.dumps()"
   ]
  },
  {
   "cell_type": "code",
   "execution_count": 11,
   "metadata": {},
   "outputs": [
    {
     "data": {
      "text/plain": [
       "(-5.0, 120.0)"
      ]
     },
     "execution_count": 11,
     "metadata": {},
     "output_type": "execute_result"
    }
   ],
   "source": [
    "import pickle, os\n",
    "coord_file = \"coordinates.pkl\"\n",
    "\n",
    "if os.path.exists(coord_file):\n",
    "            with open(coord_file, 'rb') as file:\n",
    "                tes = pickle.load(file)\n",
    "\n",
    "tes['Indonesia']"
   ]
  },
  {
   "cell_type": "code",
   "execution_count": 12,
   "metadata": {},
   "outputs": [
    {
     "data": {
      "text/plain": [
       "'1 tes 2'"
      ]
     },
     "execution_count": 12,
     "metadata": {},
     "output_type": "execute_result"
    }
   ],
   "source": [
    "\"%d tes %d\" % (1,2)"
   ]
  },
  {
   "cell_type": "code",
   "execution_count": null,
   "metadata": {},
   "outputs": [],
   "source": [
    "list(country_dict.keys())"
   ]
  },
  {
   "cell_type": "code",
   "execution_count": 55,
   "metadata": {},
   "outputs": [],
   "source": [
    "from weather import Weather\n",
    "import pandas as pd\n",
    "\n",
    "weather = Weather()\n",
    "\n",
    "weather_data = weather.fetch_weather_data(\"Indonesia\")\n",
    "\n",
    "df = pd.DataFrame(Weather.parse_weather_data(weather_data)[0])"
   ]
  },
  {
   "cell_type": "code",
   "execution_count": 35,
   "metadata": {},
   "outputs": [
    {
     "data": {
      "text/plain": [
       "datetime.datetime(2024, 8, 29, 21, 43, 40, 181483)"
      ]
     },
     "execution_count": 35,
     "metadata": {},
     "output_type": "execute_result"
    }
   ],
   "source": [
    "from datetime import datetime, timedelta\n",
    "\n",
    "\n",
    "datetime.now()"
   ]
  },
  {
   "cell_type": "code",
   "execution_count": 42,
   "metadata": {},
   "outputs": [
    {
     "data": {
      "text/html": [
       "<div>\n",
       "<style scoped>\n",
       "    .dataframe tbody tr th:only-of-type {\n",
       "        vertical-align: middle;\n",
       "    }\n",
       "\n",
       "    .dataframe tbody tr th {\n",
       "        vertical-align: top;\n",
       "    }\n",
       "\n",
       "    .dataframe thead th {\n",
       "        text-align: right;\n",
       "    }\n",
       "</style>\n",
       "<table border=\"1\" class=\"dataframe\">\n",
       "  <thead>\n",
       "    <tr style=\"text-align: right;\">\n",
       "      <th></th>\n",
       "      <th>time</th>\n",
       "      <th>temperature_2m</th>\n",
       "      <th>relative_humidity_2m</th>\n",
       "      <th>precipitation_probability</th>\n",
       "      <th>cloud_cover</th>\n",
       "      <th>visibility</th>\n",
       "      <th>wind_speed_10m</th>\n",
       "      <th>uv_index</th>\n",
       "      <th>is_day</th>\n",
       "    </tr>\n",
       "  </thead>\n",
       "  <tbody>\n",
       "    <tr>\n",
       "      <th>0</th>\n",
       "      <td>2024-08-29T00:00</td>\n",
       "      <td>26.5</td>\n",
       "      <td>69</td>\n",
       "      <td>0</td>\n",
       "      <td>61</td>\n",
       "      <td>24140.0</td>\n",
       "      <td>5.1</td>\n",
       "      <td>1.85</td>\n",
       "      <td>1</td>\n",
       "    </tr>\n",
       "    <tr>\n",
       "      <th>1</th>\n",
       "      <td>2024-08-29T01:00</td>\n",
       "      <td>27.9</td>\n",
       "      <td>69</td>\n",
       "      <td>0</td>\n",
       "      <td>60</td>\n",
       "      <td>24140.0</td>\n",
       "      <td>11.8</td>\n",
       "      <td>4.00</td>\n",
       "      <td>1</td>\n",
       "    </tr>\n",
       "    <tr>\n",
       "      <th>2</th>\n",
       "      <td>2024-08-29T02:00</td>\n",
       "      <td>29.1</td>\n",
       "      <td>63</td>\n",
       "      <td>0</td>\n",
       "      <td>78</td>\n",
       "      <td>24140.0</td>\n",
       "      <td>15.1</td>\n",
       "      <td>4.85</td>\n",
       "      <td>1</td>\n",
       "    </tr>\n",
       "    <tr>\n",
       "      <th>3</th>\n",
       "      <td>2024-08-29T03:00</td>\n",
       "      <td>29.9</td>\n",
       "      <td>60</td>\n",
       "      <td>0</td>\n",
       "      <td>65</td>\n",
       "      <td>24140.0</td>\n",
       "      <td>17.4</td>\n",
       "      <td>6.30</td>\n",
       "      <td>1</td>\n",
       "    </tr>\n",
       "    <tr>\n",
       "      <th>4</th>\n",
       "      <td>2024-08-29T04:00</td>\n",
       "      <td>30.5</td>\n",
       "      <td>58</td>\n",
       "      <td>0</td>\n",
       "      <td>58</td>\n",
       "      <td>24140.0</td>\n",
       "      <td>18.4</td>\n",
       "      <td>7.25</td>\n",
       "      <td>1</td>\n",
       "    </tr>\n",
       "    <tr>\n",
       "      <th>...</th>\n",
       "      <td>...</td>\n",
       "      <td>...</td>\n",
       "      <td>...</td>\n",
       "      <td>...</td>\n",
       "      <td>...</td>\n",
       "      <td>...</td>\n",
       "      <td>...</td>\n",
       "      <td>...</td>\n",
       "      <td>...</td>\n",
       "    </tr>\n",
       "    <tr>\n",
       "      <th>163</th>\n",
       "      <td>2024-09-04T19:00</td>\n",
       "      <td>23.7</td>\n",
       "      <td>78</td>\n",
       "      <td>24</td>\n",
       "      <td>77</td>\n",
       "      <td>22620.0</td>\n",
       "      <td>4.8</td>\n",
       "      <td>0.00</td>\n",
       "      <td>0</td>\n",
       "    </tr>\n",
       "    <tr>\n",
       "      <th>164</th>\n",
       "      <td>2024-09-04T20:00</td>\n",
       "      <td>23.5</td>\n",
       "      <td>81</td>\n",
       "      <td>26</td>\n",
       "      <td>80</td>\n",
       "      <td>23280.0</td>\n",
       "      <td>4.2</td>\n",
       "      <td>0.00</td>\n",
       "      <td>0</td>\n",
       "    </tr>\n",
       "    <tr>\n",
       "      <th>165</th>\n",
       "      <td>2024-09-04T21:00</td>\n",
       "      <td>23.7</td>\n",
       "      <td>83</td>\n",
       "      <td>27</td>\n",
       "      <td>84</td>\n",
       "      <td>23920.0</td>\n",
       "      <td>3.9</td>\n",
       "      <td>0.00</td>\n",
       "      <td>0</td>\n",
       "    </tr>\n",
       "    <tr>\n",
       "      <th>166</th>\n",
       "      <td>2024-09-04T22:00</td>\n",
       "      <td>24.7</td>\n",
       "      <td>82</td>\n",
       "      <td>28</td>\n",
       "      <td>82</td>\n",
       "      <td>24000.0</td>\n",
       "      <td>3.3</td>\n",
       "      <td>0.15</td>\n",
       "      <td>1</td>\n",
       "    </tr>\n",
       "    <tr>\n",
       "      <th>167</th>\n",
       "      <td>2024-09-04T23:00</td>\n",
       "      <td>26.0</td>\n",
       "      <td>80</td>\n",
       "      <td>28</td>\n",
       "      <td>80</td>\n",
       "      <td>24060.0</td>\n",
       "      <td>3.5</td>\n",
       "      <td>0.40</td>\n",
       "      <td>1</td>\n",
       "    </tr>\n",
       "  </tbody>\n",
       "</table>\n",
       "<p>168 rows × 9 columns</p>\n",
       "</div>"
      ],
      "text/plain": [
       "                 time  temperature_2m  relative_humidity_2m  \\\n",
       "0    2024-08-29T00:00            26.5                    69   \n",
       "1    2024-08-29T01:00            27.9                    69   \n",
       "2    2024-08-29T02:00            29.1                    63   \n",
       "3    2024-08-29T03:00            29.9                    60   \n",
       "4    2024-08-29T04:00            30.5                    58   \n",
       "..                ...             ...                   ...   \n",
       "163  2024-09-04T19:00            23.7                    78   \n",
       "164  2024-09-04T20:00            23.5                    81   \n",
       "165  2024-09-04T21:00            23.7                    83   \n",
       "166  2024-09-04T22:00            24.7                    82   \n",
       "167  2024-09-04T23:00            26.0                    80   \n",
       "\n",
       "     precipitation_probability  cloud_cover  visibility  wind_speed_10m  \\\n",
       "0                            0           61     24140.0             5.1   \n",
       "1                            0           60     24140.0            11.8   \n",
       "2                            0           78     24140.0            15.1   \n",
       "3                            0           65     24140.0            17.4   \n",
       "4                            0           58     24140.0            18.4   \n",
       "..                         ...          ...         ...             ...   \n",
       "163                         24           77     22620.0             4.8   \n",
       "164                         26           80     23280.0             4.2   \n",
       "165                         27           84     23920.0             3.9   \n",
       "166                         28           82     24000.0             3.3   \n",
       "167                         28           80     24060.0             3.5   \n",
       "\n",
       "     uv_index  is_day  \n",
       "0        1.85       1  \n",
       "1        4.00       1  \n",
       "2        4.85       1  \n",
       "3        6.30       1  \n",
       "4        7.25       1  \n",
       "..        ...     ...  \n",
       "163      0.00       0  \n",
       "164      0.00       0  \n",
       "165      0.00       0  \n",
       "166      0.15       1  \n",
       "167      0.40       1  \n",
       "\n",
       "[168 rows x 9 columns]"
      ]
     },
     "execution_count": 42,
     "metadata": {},
     "output_type": "execute_result"
    }
   ],
   "source": [
    "df"
   ]
  },
  {
   "cell_type": "code",
   "execution_count": 49,
   "metadata": {},
   "outputs": [
    {
     "data": {
      "text/plain": [
       "datetime.datetime(2024, 8, 29, 21, 58, 37, 994719)"
      ]
     },
     "execution_count": 49,
     "metadata": {},
     "output_type": "execute_result"
    }
   ],
   "source": [
    "datetime.now()"
   ]
  },
  {
   "cell_type": "code",
   "execution_count": 51,
   "metadata": {},
   "outputs": [
    {
     "data": {
      "text/plain": [
       "Timestamp('2024-08-29 00:00:00')"
      ]
     },
     "execution_count": 51,
     "metadata": {},
     "output_type": "execute_result"
    }
   ],
   "source": [
    "pd.to_datetime(df['time'])[0]"
   ]
  },
  {
   "cell_type": "code",
   "execution_count": 57,
   "metadata": {},
   "outputs": [
    {
     "ename": "AttributeError",
     "evalue": "'Weather' object has no attribute 'get_utc_offset'",
     "output_type": "error",
     "traceback": [
      "\u001b[1;31m---------------------------------------------------------------------------\u001b[0m",
      "\u001b[1;31mAttributeError\u001b[0m                            Traceback (most recent call last)",
      "Cell \u001b[1;32mIn[57], line 1\u001b[0m\n\u001b[1;32m----> 1\u001b[0m \u001b[43mweather\u001b[49m\u001b[38;5;241;43m.\u001b[39;49m\u001b[43mget_utc_offset\u001b[49m\n",
      "\u001b[1;31mAttributeError\u001b[0m: 'Weather' object has no attribute 'get_utc_offset'"
     ]
    }
   ],
   "source": [
    "weather.get_utc_offset"
   ]
  },
  {
   "cell_type": "code",
   "execution_count": null,
   "metadata": {},
   "outputs": [],
   "source": []
  }
 ],
 "metadata": {
  "kernelspec": {
   "display_name": ".venv",
   "language": "python",
   "name": "python3"
  },
  "language_info": {
   "codemirror_mode": {
    "name": "ipython",
    "version": 3
   },
   "file_extension": ".py",
   "mimetype": "text/x-python",
   "name": "python",
   "nbconvert_exporter": "python",
   "pygments_lexer": "ipython3",
   "version": "3.9.19"
  }
 },
 "nbformat": 4,
 "nbformat_minor": 2
}
